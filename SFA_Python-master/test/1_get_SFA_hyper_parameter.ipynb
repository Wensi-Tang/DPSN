{
 "cells": [
  {
   "cell_type": "code",
   "execution_count": 1,
   "metadata": {},
   "outputs": [
    {
     "name": "stdout",
     "output_type": "stream",
     "text": [
      "Done reading ECG200 Training Data...  Samples: 100   Length: 96\n",
      "Done reading ECG200 Testing Data...  Samples: 100   Length: 96\n",
      "\n",
      "ECG200  Fitting for a norm of True\n"
     ]
    },
    {
     "name": "stderr",
     "output_type": "stream",
     "text": [
      "100% (86 of 86) |########################| Elapsed Time: 0:08:04 Time:  0:08:04\n"
     ]
    },
    {
     "name": "stdout",
     "output_type": "stream",
     "text": [
      "\n",
      "ECG200  Fitting for a norm of False\n"
     ]
    },
    {
     "name": "stderr",
     "output_type": "stream",
     "text": [
      "100% (86 of 86) |########################| Elapsed Time: 0:07:16 Time:  0:07:16\n"
     ]
    },
    {
     "name": "stdout",
     "output_type": "stream",
     "text": [
      "\n",
      "boss fit scores =  1.0\n",
      "/home/tangw/Desktop/TSC/DPSN/SFA_Python-master/test/BOSS_model/ECG200/ECG200_model.pkl\n"
     ]
    }
   ],
   "source": [
    "import sys\n",
    "import os\n",
    "from sklearn import preprocessing\n",
    "sys.path.append(os.getcwd()[:-5])\n",
    "from src.timeseries.TimeSeriesLoader import uv_load\n",
    "from  src.classification.BOSSEnsembleClassifier import *\n",
    "import pickle\n",
    "from scipy.sparse import csr_matrix\n",
    "import numpy as np\n",
    "\n",
    "\n",
    "def save_to_log(sentence,dataset_name):\n",
    "    father_path = './BOSS_feature_Data/' + dataset_name\n",
    "    if not os.path.exists(father_path):\n",
    "        os.makedirs(father_path)\n",
    "    path = father_path+ '/' +dataset_name+ '_hyper_parameter_log.txt'\n",
    "    with open(path, \"a\") as myfile:\n",
    "        myfile.write(sentence+'\\n')\n",
    "\n",
    "\n",
    "def BOSS_feature_data_writer(dataset_name, X_train_feature, y_train, X_test_feature, y_test, test_accuracy):\n",
    "    father_path = './BOSS_feature_Data/' + dataset_name\n",
    "    if not os.path.exists(father_path):\n",
    "        os.makedirs(father_path)\n",
    "        \n",
    "\n",
    "    dictionary = {'X_train_feature': X_train_feature,\n",
    "                  'y_train': y_train,\n",
    "                  'X_test_feature': X_test_feature,\n",
    "                  'y_test': y_test,\n",
    "                  'Boss_accuracy': test_accuracy}\n",
    "    save_path = father_path + '/' + dataset_name + '.npy'\n",
    "    np.save(save_path, dictionary)\n",
    "\n",
    "\n",
    "\n",
    "def save_boss_mode(name,models):\n",
    "    father_path = os.path.join(os.getcwd(),'BOSS_model',name)\n",
    "    if not os.path.exists(father_path):\n",
    "        os.makedirs(father_path)\n",
    "    path =os.path.join(father_path,name+'_model.pkl')\n",
    "    print(path)\n",
    "    with open(path, 'wb') as output:\n",
    "        pickle.dump(models, output, pickle.HIGHEST_PROTOCOL)\n",
    "\n",
    "def load_boss_mode(name):\n",
    "    father_path = os.path.join(os.getcwd(), 'BOSS_model', name)\n",
    "    path = os.path.join(father_path, name + '_model.pkl')\n",
    "    with open(path, 'rb') as input:\n",
    "        models = pickle.load(input)\n",
    "    return models\n",
    "\n",
    "def covert_dic_to_csr_matrix(dic):\n",
    "    row = []\n",
    "    colum = []\n",
    "    value = []\n",
    "    for i in range(len(dic)):\n",
    "        for key in dic[i]:\n",
    "            row.append(i)\n",
    "            colum.append(key)\n",
    "            value.append(dic[i][key])\n",
    "    return csr_matrix((value, (row, colum)))\n",
    "\n",
    "\n",
    "def obtain_boss_feature_and_save_model(name):\n",
    "    train, test = uv_load(name)\n",
    "    boss = BOSSEnsembleClassifier(name)\n",
    "    scores = boss.fit(train)\n",
    "    print('boss fit scores = ',scores)\n",
    "    models = boss.model\n",
    "    save_boss_mode(name, models)\n",
    "\n",
    "\n",
    "name_list = [\n",
    " 'ECG200'\n",
    "]\n",
    "\n",
    "\n",
    "for name in name_list:\n",
    "    sentence = 'running at '+name\n",
    "    save_to_log(sentence, 'Running_log')\n",
    "    obtain_boss_feature_and_save_model(name)\n",
    "\n"
   ]
  },
  {
   "cell_type": "code",
   "execution_count": null,
   "metadata": {},
   "outputs": [],
   "source": []
  },
  {
   "cell_type": "code",
   "execution_count": null,
   "metadata": {},
   "outputs": [],
   "source": []
  }
 ],
 "metadata": {
  "kernelspec": {
   "display_name": "Python 3",
   "language": "python",
   "name": "python3"
  },
  "language_info": {
   "codemirror_mode": {
    "name": "ipython",
    "version": 3
   },
   "file_extension": ".py",
   "mimetype": "text/x-python",
   "name": "python",
   "nbconvert_exporter": "python",
   "pygments_lexer": "ipython3",
   "version": "3.5.4"
  }
 },
 "nbformat": 4,
 "nbformat_minor": 2
}
